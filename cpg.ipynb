{
 "cells": [
  {
   "cell_type": "code",
   "execution_count": 1,
   "id": "d804eef2",
   "metadata": {},
   "outputs": [],
   "source": [
    "from Widgets import createWidgets\n",
    "from Simulation import Simulation\n",
    "from Plot import createPlot"
   ]
  },
  {
   "cell_type": "code",
   "execution_count": 2,
   "id": "b1056b4f",
   "metadata": {},
   "outputs": [],
   "source": [
    "def run( energy = 380, deltaE = 15, position = 1.35, current = 400, time = 2, background = 'Underground' ):\n",
    "    time *= 60\n",
    "    \n",
    "    sim.setBackground( background )\n",
    "    sim.run( energy, deltaE, position, current, time )\n",
    "    \n",
    "    createPlot( sim, energy, deltaE, position, current, time, background )"
   ]
  },
  {
   "cell_type": "code",
   "execution_count": 3,
   "id": "fbb12c3e-ee2b-4fbc-a42e-cb5b20a58086",
   "metadata": {},
   "outputs": [
    {
     "data": {
      "application/vnd.jupyter.widget-view+json": {
       "model_id": "f0d8b806a87c4503a1fac6c3d23a3489",
       "version_major": 2,
       "version_minor": 0
      },
      "text/plain": [
       "HBox(children=(VBox(children=(FloatSlider(value=380.0, continuous_update=False, description='Beam energy (keV)…"
      ]
     },
     "metadata": {},
     "output_type": "display_data"
    },
    {
     "data": {
      "application/vnd.jupyter.widget-view+json": {
       "model_id": "b2d98460f246423da7eca2a0806cd098",
       "version_major": 2,
       "version_minor": 0
      },
      "text/plain": [
       "Output()"
      ]
     },
     "metadata": {},
     "output_type": "display_data"
    }
   ],
   "source": [
    "sim = Simulation( )\n",
    "ui, w = createWidgets( run )\n",
    "display( ui, w )"
   ]
  },
  {
   "cell_type": "code",
   "execution_count": null,
   "id": "8d0e44b3-5d30-404e-9979-d82e0587fc8e",
   "metadata": {},
   "outputs": [],
   "source": []
  }
 ],
 "metadata": {
  "kernelspec": {
   "display_name": "Python 3 (ipykernel)",
   "language": "python",
   "name": "python3"
  },
  "language_info": {
   "codemirror_mode": {
    "name": "ipython",
    "version": 3
   },
   "file_extension": ".py",
   "mimetype": "text/x-python",
   "name": "python",
   "nbconvert_exporter": "python",
   "pygments_lexer": "ipython3",
   "version": "3.8.10"
  }
 },
 "nbformat": 4,
 "nbformat_minor": 5
}
