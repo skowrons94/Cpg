{
 "cells": [
  {
   "cell_type": "code",
   "execution_count": 1,
   "id": "d804eef2",
   "metadata": {},
   "outputs": [],
   "source": [
    "from main import *\n",
    "from ipywidgets import *"
   ]
  },
  {
   "cell_type": "code",
   "execution_count": 2,
   "id": "b1056b4f",
   "metadata": {},
   "outputs": [],
   "source": [
    "energy = widgets.FloatSlider(value=380.0, min=10, max=600, step=1, \n",
    "                             continuous_update=False, \n",
    "                             description='Beam energy (keV):', \n",
    "                             style=style)\n",
    "\n",
    "deltaE = widgets.FloatSlider(value=15.0, min=1, max=200, step=1, \n",
    "                             continuous_update=False, \n",
    "                             description='Target thickness (keV):',\n",
    "                             style=style)\n",
    "\n",
    "position = widgets.FloatSlider(value=1.35, min=0.1, max=20, step=0.01, \n",
    "                               continuous_update=False, \n",
    "                               description='Detector distance (cm):',\n",
    "                               style=style)\n",
    "                  \n",
    "current = widgets.FloatSlider(value=400.0, min=1, max=600, step=1, \n",
    "                              continuous_update=False, \n",
    "                              description='Beam current ($\\mu$A):',\n",
    "                              style=style)\n",
    "\n",
    "time = widgets.FloatSlider(value=2, min=1, max=4320, step=1, \n",
    "                           continuous_update=False, \n",
    "                           description='Acquisition time (min):',\n",
    "                           style=style)\n",
    "                   \n",
    "background = widgets.Select(options=['Underground Shielded', 'Underground Unshielded', 'Surface Unshielded'], value='Underground Shielded',\n",
    "                            description='Background:',\n",
    "                            disabled=False)"
   ]
  },
  {
   "cell_type": "code",
   "execution_count": 3,
   "id": "4c5fd688-5eaf-4c30-a35a-447e025e5edb",
   "metadata": {
    "tags": []
   },
   "outputs": [
    {
     "data": {
      "application/vnd.jupyter.widget-view+json": {
       "model_id": "f0c3761fa00e481299182f94324f131f",
       "version_major": 2,
       "version_minor": 0
      },
      "text/plain": [
       "HBox(children=(VBox(children=(FloatSlider(value=380.0, continuous_update=False, description='Beam energy (keV)…"
      ]
     },
     "metadata": {},
     "output_type": "display_data"
    },
    {
     "data": {
      "application/vnd.jupyter.widget-view+json": {
       "model_id": "825db23d91d1491188443e57b6b24307",
       "version_major": 2,
       "version_minor": 0
      },
      "text/plain": [
       "Output()"
      ]
     },
     "metadata": {},
     "output_type": "display_data"
    }
   ],
   "source": [
    "#widget = interact(Plot, energy = energy, deltaE = deltaE, position = position, current = current, time = time, background = background)\n",
    "\n",
    "left_box = VBox([energy, deltaE, position, current, time])\n",
    "right_box = VBox([background])\n",
    "ui = HBox([left_box, right_box])\n",
    "\n",
    "w = interactive_output(Plot,\n",
    "                       { \n",
    "                         \"energy\":energy,\n",
    "                         \"deltaE\":deltaE,\n",
    "                         \"position\":position,\n",
    "                         \"current\":current,\n",
    "                         \"time\":time,\n",
    "                         \"background\":background,\n",
    "                       })\n",
    "\n",
    "display(ui, w)"
   ]
  },
  {
   "cell_type": "code",
   "execution_count": null,
   "id": "40b6abfc",
   "metadata": {},
   "outputs": [],
   "source": []
  }
 ],
 "metadata": {
  "kernelspec": {
   "display_name": "Python 3 (ipykernel)",
   "language": "python",
   "name": "python3"
  },
  "language_info": {
   "codemirror_mode": {
    "name": "ipython",
    "version": 3
   },
   "file_extension": ".py",
   "mimetype": "text/x-python",
   "name": "python",
   "nbconvert_exporter": "python",
   "pygments_lexer": "ipython3",
   "version": "3.8.10"
  }
 },
 "nbformat": 4,
 "nbformat_minor": 5
}
