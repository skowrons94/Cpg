{
 "cells": [
  {
   "cell_type": "markdown",
   "id": "a8019012-30aa-4eb9-8454-533d5f46926f",
   "metadata": {
    "tags": []
   },
   "source": [
    "<font size=\"7\"> <h1><center> Reazione $^{12}$C($p,\\gamma$)$^{13}$N </center></h1> </font>\n",
    "<img style=\"float: right;\" src=\"data/schema_12c.png\" width=\"800\" height=\"400\">\n",
    "\n",
    "<font size=\"5\">\n",
    "    La reazione $^{12}$C($p,\\gamma$)$^{13}$N fa parte del ciclo CNO, uno dei \n",
    "    maggiori produttori d'energia per stelle circa 1.2 volte piu' grandi del sole (<a href=\"https://it.wikipedia.org/wiki/Ciclo_del_carbonio-azoto-ossigeno\">rif</a>).\n",
    "</font>\n",
    "<br>\n",
    "<br>\n",
    "<font size=\"5\">\n",
    "    Sulla destra e' rappresentato lo schema della reazione: quando il protone fonde \n",
    "    con il nuclero di $^{12}$C, creando il $^{13}$N, vengono liberati circa 1.9 MeV di \n",
    "    energia (<a href=https://en.wikipedia.org/wiki/Orders_of_magnitude_(energy)>rif</a>).\n",
    "</font>\n",
    "<br>\n",
    "<br>\n",
    "<font size=\"5\">\n",
    "    La liberazione di energia segue dalla legge di Einstein: $E = mc^{2}$. In quanto il $^{13}$N \n",
    "    ha massa minore della somma delle masse del protone e del $^{12}$C, la differenza viene \n",
    "    accumulata sotto forma d'energia.\n",
    "</font>\n",
    "<br>\n",
    "<br>\n",
    "<font size=\"5\">\n",
    "    Per questo motivo il $^{13}$N subito libera energia sotto forma di radiazione per rimanere \n",
    "    nello stato fondamentale.    \n",
    "</font>\n",
    "<br>\n",
    "<br>\n",
    "<font size=\"5\">\n",
    "    Se invece l'energia liberata piu' l'energia del protono corrispondono ad uno stato eccitato \n",
    "    del $^{13}$N si ha un \"risonanza\": la fusione del protone e del $^{12}$C viene favorita e \n",
    "    si ha un picco nella probabilita' del processo di produzione.\n",
    "</font>"
   ]
  },
  {
   "cell_type": "code",
   "execution_count": 1,
   "id": "e5cc473e-eeae-4443-bc9b-c940886b9c77",
   "metadata": {},
   "outputs": [],
   "source": [
    "# Importiamo le classi\n",
    "\n",
    "from Simulation import Simulation                        # Calcola i dati della reazione\n",
    "from Widgets import createWidgets                        # Crea i widget interattivi\n",
    "from Plot import createPlot                              # Crea i plot"
   ]
  },
  {
   "cell_type": "code",
   "execution_count": 2,
   "id": "b1056b4f",
   "metadata": {},
   "outputs": [],
   "source": [
    "%matplotlib widget\n",
    "import matplotlib as mpl\n",
    "\n",
    "mpl.rcParams['figure.dpi'] = 110                         # Risoluzione delle figure\n",
    "mpl.rcParams['figure.figsize'] = [8, 6]                  # Dimensioni delle figure"
   ]
  },
  {
   "cell_type": "code",
   "execution_count": 3,
   "id": "fbb12c3e-ee2b-4fbc-a42e-cb5b20a58086",
   "metadata": {},
   "outputs": [],
   "source": [
    "def run( energy = 380, deltaE = 150, position = 1.35,    # Funzione che aggiorna la simulazione ed i grafici\n",
    "          current = 400, time = 2, \n",
    "          background = 'Underground Shielded', \n",
    "          scale = \"Linear\", sigma = 3 ):\n",
    "    \n",
    "    deltaE *= 1e-3                                       # Conversione da nm a um\n",
    "    time *= 60                                           # Conversione da min a s\n",
    "    \n",
    "    sim.setSigma( sigma )                                # Imposta il sigma nella simulazione\n",
    "    sim.setBackground( background )                      # Imposta il background nella simulazione\n",
    "    sim.run( energy, deltaE, position, current,          # Simula lo spettro della reazione\n",
    "            time )\n",
    "    \n",
    "    createPlot( sim, energy, sim.deltaE, position,       # Crea i grafici con matplotlib\n",
    "               scale )"
   ]
  },
  {
   "cell_type": "code",
   "execution_count": 4,
   "id": "e41912b6-5e2d-4387-bf6d-73e33fce01cf",
   "metadata": {},
   "outputs": [
    {
     "data": {
      "application/vnd.jupyter.widget-view+json": {
       "model_id": "b5b244976e1e4af894b13cd19ea91f8e",
       "version_major": 2,
       "version_minor": 0
      },
      "text/plain": [
       "HBox(children=(VBox(children=(FloatSlider(value=380.0, continuous_update=False, description='Beam energy (keV)…"
      ]
     },
     "metadata": {},
     "output_type": "display_data"
    },
    {
     "data": {
      "application/vnd.jupyter.widget-view+json": {
       "model_id": "3698e0c58bd145ef9dc6a15131ed1478",
       "version_major": 2,
       "version_minor": 0
      },
      "text/plain": [
       "Output()"
      ]
     },
     "metadata": {},
     "output_type": "display_data"
    }
   ],
   "source": [
    "sim = Simulation( )                                      # Crea la simulazione\n",
    "ui, w = createWidgets( run )                             # Crea i widget interattivi\n",
    "display( ui, w )                                         # Mostra l'interfaccia"
   ]
  },
  {
   "cell_type": "code",
   "execution_count": null,
   "id": "848d03df-94b7-4be2-81f7-d8867152ea10",
   "metadata": {},
   "outputs": [],
   "source": []
  }
 ],
 "metadata": {
  "kernelspec": {
   "display_name": "Python 3 (ipykernel)",
   "language": "python",
   "name": "python3"
  },
  "language_info": {
   "codemirror_mode": {
    "name": "ipython",
    "version": 3
   },
   "file_extension": ".py",
   "mimetype": "text/x-python",
   "name": "python",
   "nbconvert_exporter": "python",
   "pygments_lexer": "ipython3",
   "version": "3.8.10"
  }
 },
 "nbformat": 4,
 "nbformat_minor": 5
}
