{
 "cells": [
  {
   "cell_type": "code",
   "execution_count": 1,
   "id": "d804eef2",
   "metadata": {},
   "outputs": [],
   "source": [
    "from Simulation import Simulation\n",
    "from Widgets import createWidgets\n",
    "from Plot import createPlot"
   ]
  },
  {
   "cell_type": "code",
   "execution_count": 2,
   "id": "b1056b4f",
   "metadata": {},
   "outputs": [],
   "source": [
    "%matplotlib widget\n",
    "\n",
    "import matplotlib as mpl\n",
    "\n",
    "mpl.rcParams['figure.dpi'] = 110\n",
    "mpl.rcParams['figure.figsize'] = [8, 6]"
   ]
  },
  {
   "cell_type": "code",
   "execution_count": 3,
   "id": "fbb12c3e-ee2b-4fbc-a42e-cb5b20a58086",
   "metadata": {},
   "outputs": [],
   "source": [
    "def run( energy = 380, deltaE = 150, position = 1.35, current = 400, time = 2, background = 'Underground Shielded', scale = \"Linear\", sigma = 3 ):\n",
    "    time *= 60\n",
    "    \n",
    "    sim.setSigma( sigma )\n",
    "    sim.setBackground( background )\n",
    "    sim.run( energy, deltaE*1e-3, position, current, time )\n",
    "    \n",
    "    createPlot( sim, energy, sim.deltaE, position, scale )"
   ]
  },
  {
   "cell_type": "code",
   "execution_count": 4,
   "id": "e41912b6-5e2d-4387-bf6d-73e33fce01cf",
   "metadata": {},
   "outputs": [
    {
     "data": {
      "application/vnd.jupyter.widget-view+json": {
       "model_id": "577a082f6eb2411098594aacbb9827dd",
       "version_major": 2,
       "version_minor": 0
      },
      "text/plain": [
       "HBox(children=(VBox(children=(FloatSlider(value=380.0, continuous_update=False, description='Beam energy (keV)…"
      ]
     },
     "metadata": {},
     "output_type": "display_data"
    },
    {
     "data": {
      "application/vnd.jupyter.widget-view+json": {
       "model_id": "c2cd351a87be428480de87504a14a962",
       "version_major": 2,
       "version_minor": 0
      },
      "text/plain": [
       "Output()"
      ]
     },
     "metadata": {},
     "output_type": "display_data"
    }
   ],
   "source": [
    "sim = Simulation( )\n",
    "ui, w = createWidgets( run )\n",
    "display( ui, w )"
   ]
  },
  {
   "cell_type": "code",
   "execution_count": null,
   "id": "848d03df-94b7-4be2-81f7-d8867152ea10",
   "metadata": {},
   "outputs": [],
   "source": []
  }
 ],
 "metadata": {
  "kernelspec": {
   "display_name": "Python 3 (ipykernel)",
   "language": "python",
   "name": "python3"
  },
  "language_info": {
   "codemirror_mode": {
    "name": "ipython",
    "version": 3
   },
   "file_extension": ".py",
   "mimetype": "text/x-python",
   "name": "python",
   "nbconvert_exporter": "python",
   "pygments_lexer": "ipython3",
   "version": "3.8.10"
  }
 },
 "nbformat": 4,
 "nbformat_minor": 5
}
