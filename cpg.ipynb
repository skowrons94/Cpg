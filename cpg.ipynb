{
 "cells": [
  {
   "cell_type": "code",
   "execution_count": 13,
   "id": "d804eef2",
   "metadata": {},
   "outputs": [],
   "source": [
    "from ipywidgets import interactive_output, widgets, HBox, VBox, Layout\n",
    "from Simulation import Simulation\n",
    "from Plot import createPlot"
   ]
  },
  {
   "cell_type": "code",
   "execution_count": 14,
   "id": "b1056b4f",
   "metadata": {},
   "outputs": [],
   "source": [
    "def run( energy = 380, deltaE = 15, position = 1.35, current = 400, time = 2, background = 'Underground' ):\n",
    "    time *= 60\n",
    "    \n",
    "    sim.setBackground( background )\n",
    "    sim.run( energy, deltaE, position, current, time )\n",
    "    \n",
    "    createPlot( sim, energy, deltaE, position, current, time, background )"
   ]
  },
  {
   "cell_type": "code",
   "execution_count": 17,
   "id": "fbb12c3e-ee2b-4fbc-a42e-cb5b20a58086",
   "metadata": {},
   "outputs": [],
   "source": [
    "style = {'description_width': 'initial'}\n",
    "\n",
    "energy = widgets.FloatSlider(value=380.0, min=10, max=600, step=1, \n",
    "                             continuous_update=False, \n",
    "                             description='Beam energy (keV):', \n",
    "                             style=style)\n",
    "\n",
    "deltaE = widgets.FloatSlider(value=15.0, min=1, max=200, step=1, \n",
    "                             continuous_update=False, \n",
    "                             description='Target thickness (keV):',\n",
    "                             style=style)\n",
    "\n",
    "position = widgets.FloatSlider(value=1.35, min=0.1, max=20, step=0.01, \n",
    "                               continuous_update=False, \n",
    "                               description='Detector distance (cm):',\n",
    "                               style=style)\n",
    "                  \n",
    "current = widgets.FloatSlider(value=400.0, min=1, max=600, step=1, \n",
    "                              continuous_update=False, \n",
    "                              description='Beam current ($\\mu$A):',\n",
    "                              style=style)\n",
    "\n",
    "time = widgets.FloatSlider(value=2, min=1, max=4320, step=1, \n",
    "                           continuous_update=False, \n",
    "                           description='Acquisition time (min):',\n",
    "                           style=style)\n",
    "                   \n",
    "background = widgets.Select(options=['Underground Shielded',\n",
    "                                     'Underground Unshielded',\n",
    "                                     'Surface Unshielded'],\n",
    "                            value='Underground Shielded',\n",
    "                            description='Background:',\n",
    "                            disabled=False)\n",
    "\n",
    "layout = Layout(border='2px solid grey',\n",
    "                width='940px',\n",
    "                height='',\n",
    "                flex_flow='row',\n",
    "                display='flex',\n",
    "                justify_content = 'center')\n",
    "\n",
    "left_box = VBox([energy, deltaE, position, current, time])\n",
    "right_box = VBox([background])\n",
    "\n",
    "ui = HBox([left_box, right_box], layout=layout)\n",
    "w = interactive_output(run,{ \n",
    "                            \"energy\":energy,\n",
    "                            \"deltaE\":deltaE,\n",
    "                            \"position\":position,\n",
    "                            \"current\":current,\n",
    "                            \"time\":time,\n",
    "                            \"background\":background,\n",
    "                           })"
   ]
  },
  {
   "cell_type": "code",
   "execution_count": 18,
   "id": "8d0e44b3-5d30-404e-9979-d82e0587fc8e",
   "metadata": {},
   "outputs": [
    {
     "data": {
      "application/vnd.jupyter.widget-view+json": {
       "model_id": "0d0a67d765234f8d9761afbed52d0412",
       "version_major": 2,
       "version_minor": 0
      },
      "text/plain": [
       "HBox(children=(VBox(children=(FloatSlider(value=380.0, continuous_update=False, description='Beam energy (keV)…"
      ]
     },
     "metadata": {},
     "output_type": "display_data"
    },
    {
     "data": {
      "application/vnd.jupyter.widget-view+json": {
       "model_id": "c529dc314d5b40fb9486d702f7a2a6b8",
       "version_major": 2,
       "version_minor": 0
      },
      "text/plain": [
       "Output()"
      ]
     },
     "metadata": {},
     "output_type": "display_data"
    }
   ],
   "source": [
    "sim = Simulation( )\n",
    "display( ui, w )"
   ]
  },
  {
   "cell_type": "code",
   "execution_count": null,
   "id": "403446b0-5d15-4e8b-bc79-5628e3879d79",
   "metadata": {},
   "outputs": [],
   "source": []
  }
 ],
 "metadata": {
  "kernelspec": {
   "display_name": "Python 3 (ipykernel)",
   "language": "python",
   "name": "python3"
  },
  "language_info": {
   "codemirror_mode": {
    "name": "ipython",
    "version": 3
   },
   "file_extension": ".py",
   "mimetype": "text/x-python",
   "name": "python",
   "nbconvert_exporter": "python",
   "pygments_lexer": "ipython3",
   "version": "3.8.10"
  }
 },
 "nbformat": 4,
 "nbformat_minor": 5
}
