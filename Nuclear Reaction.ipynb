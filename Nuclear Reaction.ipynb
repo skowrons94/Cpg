{
 "cells": [
  {
   "attachments": {},
   "cell_type": "markdown",
   "id": "a8019012-30aa-4eb9-8454-533d5f46926f",
   "metadata": {
    "tags": []
   },
   "source": [
    "<font size=\"7\"> <h1><center> Reazione $^{12}$C($p,\\gamma$)$^{13}$N </center></h1> </font>\n",
    "<img style=\"float: right;\" src=\"data/schema_12c.png\" width=\"500\" >\n",
    "\n",
    "<font size=\"5\">\n",
    "    La reazione $^{12}$C($p,\\gamma$)$^{13}$N fa parte del ciclo CNO, uno dei \n",
    "    maggiori produttori d'energia per stelle circa 1.2 volte piu' grandi del sole (<a href=\"https://it.wikipedia.org/wiki/Ciclo_del_carbonio-azoto-ossigeno\">rif</a>).\n",
    "</font>\n",
    "<br>\n",
    "<br>\n",
    "<font size=\"5\">\n",
    "    Sulla destra e' rappresentato lo schema della reazione: quando il protone fonde \n",
    "    con il nuclero di $^{12}$C, creando il $^{13}$N, vengono liberati circa 1.9 MeV di \n",
    "    energia (<a href=https://en.wikipedia.org/wiki/Orders_of_magnitude_(energy)>rif</a>).\n",
    "</font>\n",
    "<br>\n",
    "<br>\n",
    "<font size=\"5\">\n",
    "    La liberazione dell'eccesso d'energia segue dalla legge di Einstein: $E = mc^{2}$. In quanto il $^{13}$N \n",
    "    ha massa minore della somma delle masse del protone e del $^{12}$C, la differenza viene convertita in\n",
    "    energia.\n",
    "</font>\n",
    "<br>\n",
    "<br>\n",
    "<font size=\"5\">\n",
    "    Per questo motivo il $^{13}$N libera una radiazione $\\gamma$ per tornare allo stato fondamentale.\n",
    "</font>\n",
    "<br>\n",
    "<br>\n",
    "<font size=\"5\">\n",
    "    Se invece l'energia liberata piu' l'energia del protone corrispondono ad uno stato eccitato \n",
    "    del $^{13}$N si ha un \"risonanza\": la fusione del protone e del $^{12}$C viene favorita e \n",
    "    si ha un picco nella probabilita' del processo di produzione.\n",
    "</font>"
   ]
  },
  {
   "cell_type": "code",
   "execution_count": 4,
   "id": "e5cc473e-eeae-4443-bc9b-c940886b9c77",
   "metadata": {},
   "outputs": [],
   "source": [
    "# Importiamo le classi\n",
    "\n",
    "from Simulation import Simulation                        # Calcola i dati della reazione\n",
    "from Widgets import createWidgets                        # Crea i widget interattivi\n",
    "from Plot import createPlot                              # Crea i plot\n",
    "\n",
    "%matplotlib widget\n",
    "import matplotlib as mpl\n",
    "\n",
    "mpl.rcParams['figure.dpi'] = 110                         # Risoluzione delle figure\n",
    "mpl.rcParams['figure.figsize'] = [8, 6]                  # Dimensioni delle figure"
   ]
  },
  {
   "cell_type": "code",
   "execution_count": 5,
   "id": "fbb12c3e-ee2b-4fbc-a42e-cb5b20a58086",
   "metadata": {},
   "outputs": [],
   "source": [
    "def run( energy = 380, deltaE = 150, position = 1.35, current = 400, time = 2, background = 'Underground Shielded', scale = \"Linear\" ):   \n",
    "    deltaE *= 1e-3                                       # Conversione da nm a um\n",
    "    time   *= 60                                         # Conversione da min a s    \n",
    "    sim.setBackground( background )                      # Imposta il background nella simulazione\n",
    "    sim.run( energy, deltaE, position, current, time )   # Simula lo spettro della reazione\n",
    "    createPlot( sim, energy, sim.deltaE, position, scale )  # Crea i grafici con matplotlib"
   ]
  },
  {
   "cell_type": "code",
   "execution_count": 6,
   "id": "e41912b6-5e2d-4387-bf6d-73e33fce01cf",
   "metadata": {},
   "outputs": [
    {
     "data": {
      "application/vnd.jupyter.widget-view+json": {
       "model_id": "77b34fc64a28468a9ae2841954c83084",
       "version_major": 2,
       "version_minor": 0
      },
      "text/plain": [
       "HBox(children=(VBox(children=(FloatSlider(value=380.0, continuous_update=False, description='Beam Energy (keV)…"
      ]
     },
     "metadata": {},
     "output_type": "display_data"
    },
    {
     "data": {
      "application/vnd.jupyter.widget-view+json": {
       "model_id": "5266bf65840c4d56b2659a0f7d2de29d",
       "version_major": 2,
       "version_minor": 0
      },
      "text/plain": [
       "Output()"
      ]
     },
     "metadata": {},
     "output_type": "display_data"
    }
   ],
   "source": [
    "sim   = Simulation( )                                    # Crea la simulazione\n",
    "ui, w = createWidgets( run )                             # Crea i widget interattivi\n",
    "\n",
    "display( ui, w )                                         # Mostra l'interfaccia"
   ]
  },
  {
   "cell_type": "code",
   "execution_count": null,
   "id": "848d03df-94b7-4be2-81f7-d8867152ea10",
   "metadata": {},
   "outputs": [],
   "source": []
  }
 ],
 "metadata": {
  "kernelspec": {
   "display_name": "Python 3",
   "language": "python",
   "name": "python3"
  },
  "language_info": {
   "codemirror_mode": {
    "name": "ipython",
    "version": 3
   },
   "file_extension": ".py",
   "mimetype": "text/x-python",
   "name": "python",
   "nbconvert_exporter": "python",
   "pygments_lexer": "ipython3",
   "version": "3.9.6"
  },
  "vscode": {
   "interpreter": {
    "hash": "31f2aee4e71d21fbe5cf8b01ff0e069b9275f58929596ceb00d14d90e3e16cd6"
   }
  }
 },
 "nbformat": 4,
 "nbformat_minor": 5
}
